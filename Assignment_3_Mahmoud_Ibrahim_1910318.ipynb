{
  "nbformat": 4,
  "nbformat_minor": 0,
  "metadata": {
    "colab": {
      "name": "Assignment 3 - Mahmoud Ibrahim - 1910318.ipynb",
      "provenance": [],
      "collapsed_sections": []
    },
    "kernelspec": {
      "name": "python3",
      "display_name": "Python 3"
    },
    "language_info": {
      "name": "python"
    }
  },
  "cells": [
    {
      "cell_type": "markdown",
      "metadata": {
        "id": "9AnUJVSbhP9P"
      },
      "source": [
        "**Assignment 3**\n",
        "\n",
        "---\n",
        "\n",
        "\n",
        "Name: Mahmoud Ibrahim Mahmoud\n",
        "ID: 1910318"
      ]
    },
    {
      "cell_type": "markdown",
      "metadata": {
        "id": "kk5cfqCZh0Yh"
      },
      "source": [
        "**Q1. In up to 3 sentences describe tilted convolution.**"
      ]
    },
    {
      "cell_type": "markdown",
      "metadata": {
        "id": "usKGLJqaES-N"
      },
      "source": [
        "The convoluttion is what allows neurons to focus on a local receptive field and react to visual stimuli in that field.\n",
        "\n",
        "Convolution refers to a mathematical function called kernal or filter that is basiclly a sliding window function applied to a matrix that represents the input image to extract features.\n",
        "\n",
        "kernal is associated with weights and these weights are what help this kernal extract specific kinds of features, detect edges, corners, lines."
      ]
    },
    {
      "cell_type": "markdown",
      "metadata": {
        "id": "7rnlN0PWh6MV"
      },
      "source": [
        "**Q2.  Python-Pytorch: Using MNIST dataset, compare in terms of the train and test accuracies of two different ConvNet models (kernel width 5, 32 filters) at:**\n",
        "* Stride of 1 and 2.\n",
        "* Calculate the total number of parameters for each case"
      ]
    },
    {
      "cell_type": "markdown",
      "metadata": {
        "id": "5MiZSqFbiGP-"
      },
      "source": [
        "**Q3. From the previous question, plot sample successful and failure cases, and try to explain the effect of changing the Stride size on the results.**"
      ]
    },
    {
      "cell_type": "markdown",
      "metadata": {
        "id": "En9jYOtxiL3-"
      },
      "source": [
        "**Q4. [True or False] The softmax activation function is shift-invariant. Explain why you chosen your answer.**"
      ]
    },
    {
      "cell_type": "markdown",
      "metadata": {
        "id": "wZe94HtCiPY1"
      },
      "source": [
        "Q4. Answer\n",
        "\n",
        "---\n",
        "\n",
        "True, Because it multiplies each exponent by the same factor, so the ratios do not change."
      ]
    }
  ]
}